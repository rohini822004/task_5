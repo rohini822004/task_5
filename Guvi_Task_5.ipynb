{
 "cells": [
  {
   "cell_type": "code",
   "execution_count": 1,
   "id": "df7bda40",
   "metadata": {},
   "outputs": [
    {
     "name": "stdout",
     "output_type": "stream",
     "text": [
      "Requirement already satisfied: pandas in c:\\users\\selvi\\appdata\\roaming\\python\\python310\\site-packages (1.5.1)\n",
      "Requirement already satisfied: numpy>=1.21.0 in c:\\users\\selvi\\appdata\\roaming\\python\\python310\\site-packages (from pandas) (1.23.4)\n",
      "Requirement already satisfied: pytz>=2020.1 in c:\\users\\selvi\\appdata\\roaming\\python\\python310\\site-packages (from pandas) (2022.5)\n",
      "Requirement already satisfied: python-dateutil>=2.8.1 in c:\\users\\selvi\\appdata\\roaming\\python\\python310\\site-packages (from pandas) (2.8.2)\n",
      "Requirement already satisfied: six>=1.5 in c:\\users\\selvi\\appdata\\roaming\\python\\python310\\site-packages (from python-dateutil>=2.8.1->pandas) (1.16.0)\n",
      "Requirement already satisfied: numpy in c:\\users\\selvi\\appdata\\roaming\\python\\python310\\site-packages (1.23.4)\n"
     ]
    }
   ],
   "source": [
    "!pip install pandas\n",
    "!pip install numpy"
   ]
  },
  {
   "cell_type": "code",
   "execution_count": 2,
   "id": "bde7c50a",
   "metadata": {},
   "outputs": [],
   "source": [
    "import pandas as pd\n",
    "import numpy as np"
   ]
  },
  {
   "cell_type": "code",
   "execution_count": 3,
   "id": "24f019cd",
   "metadata": {},
   "outputs": [
    {
     "data": {
      "text/html": [
       "<div>\n",
       "<style scoped>\n",
       "    .dataframe tbody tr th:only-of-type {\n",
       "        vertical-align: middle;\n",
       "    }\n",
       "\n",
       "    .dataframe tbody tr th {\n",
       "        vertical-align: top;\n",
       "    }\n",
       "\n",
       "    .dataframe thead th {\n",
       "        text-align: right;\n",
       "    }\n",
       "</style>\n",
       "<table border=\"1\" class=\"dataframe\">\n",
       "  <thead>\n",
       "    <tr style=\"text-align: right;\">\n",
       "      <th></th>\n",
       "      <th>object_id</th>\n",
       "      <th>creation_time</th>\n",
       "      <th>name</th>\n",
       "      <th>email</th>\n",
       "      <th>creation_source</th>\n",
       "      <th>last_session_creation_time</th>\n",
       "      <th>opted_in_to_mailing_list</th>\n",
       "      <th>enabled_for_marketing_drip</th>\n",
       "      <th>org_id</th>\n",
       "      <th>invited_by_user_id</th>\n",
       "    </tr>\n",
       "  </thead>\n",
       "  <tbody>\n",
       "    <tr>\n",
       "      <th>0</th>\n",
       "      <td>1</td>\n",
       "      <td>22/4/2014 3:53</td>\n",
       "      <td>Clausen August</td>\n",
       "      <td>AugustCClausen@yahoo.com</td>\n",
       "      <td>GUEST_INVITE</td>\n",
       "      <td>1.398139e+09</td>\n",
       "      <td>1</td>\n",
       "      <td>0</td>\n",
       "      <td>11</td>\n",
       "      <td>10803.0</td>\n",
       "    </tr>\n",
       "    <tr>\n",
       "      <th>1</th>\n",
       "      <td>2</td>\n",
       "      <td>15/11/2013 3:45</td>\n",
       "      <td>Poole Matthew</td>\n",
       "      <td>MatthewPoole@gustr.com</td>\n",
       "      <td>ORG_INVITE</td>\n",
       "      <td>1.396238e+09</td>\n",
       "      <td>0</td>\n",
       "      <td>0</td>\n",
       "      <td>1</td>\n",
       "      <td>316.0</td>\n",
       "    </tr>\n",
       "    <tr>\n",
       "      <th>2</th>\n",
       "      <td>3</td>\n",
       "      <td>19/3/2013 23:14</td>\n",
       "      <td>Bottrill Mitchell</td>\n",
       "      <td>MitchellBottrill@gustr.com</td>\n",
       "      <td>ORG_INVITE</td>\n",
       "      <td>1.363735e+09</td>\n",
       "      <td>0</td>\n",
       "      <td>0</td>\n",
       "      <td>94</td>\n",
       "      <td>1525.0</td>\n",
       "    </tr>\n",
       "    <tr>\n",
       "      <th>3</th>\n",
       "      <td>4</td>\n",
       "      <td>21/5/2013 8:09</td>\n",
       "      <td>Clausen Nicklas</td>\n",
       "      <td>NicklasSClausen@yahoo.com</td>\n",
       "      <td>GUEST_INVITE</td>\n",
       "      <td>1.369210e+09</td>\n",
       "      <td>0</td>\n",
       "      <td>0</td>\n",
       "      <td>1</td>\n",
       "      <td>5151.0</td>\n",
       "    </tr>\n",
       "    <tr>\n",
       "      <th>4</th>\n",
       "      <td>5</td>\n",
       "      <td>17/1/2013 10:14</td>\n",
       "      <td>Raw Grace</td>\n",
       "      <td>GraceRaw@yahoo.com</td>\n",
       "      <td>GUEST_INVITE</td>\n",
       "      <td>1.358850e+09</td>\n",
       "      <td>0</td>\n",
       "      <td>0</td>\n",
       "      <td>193</td>\n",
       "      <td>5240.0</td>\n",
       "    </tr>\n",
       "  </tbody>\n",
       "</table>\n",
       "</div>"
      ],
      "text/plain": [
       "   object_id    creation_time               name                       email  \\\n",
       "0          1   22/4/2014 3:53     Clausen August    AugustCClausen@yahoo.com   \n",
       "1          2  15/11/2013 3:45      Poole Matthew      MatthewPoole@gustr.com   \n",
       "2          3  19/3/2013 23:14  Bottrill Mitchell  MitchellBottrill@gustr.com   \n",
       "3          4   21/5/2013 8:09    Clausen Nicklas   NicklasSClausen@yahoo.com   \n",
       "4          5  17/1/2013 10:14          Raw Grace          GraceRaw@yahoo.com   \n",
       "\n",
       "  creation_source  last_session_creation_time  opted_in_to_mailing_list  \\\n",
       "0    GUEST_INVITE                1.398139e+09                         1   \n",
       "1      ORG_INVITE                1.396238e+09                         0   \n",
       "2      ORG_INVITE                1.363735e+09                         0   \n",
       "3    GUEST_INVITE                1.369210e+09                         0   \n",
       "4    GUEST_INVITE                1.358850e+09                         0   \n",
       "\n",
       "   enabled_for_marketing_drip  org_id  invited_by_user_id  \n",
       "0                           0      11             10803.0  \n",
       "1                           0       1               316.0  \n",
       "2                           0      94              1525.0  \n",
       "3                           0       1              5151.0  \n",
       "4                           0     193              5240.0  "
      ]
     },
     "execution_count": 3,
     "metadata": {},
     "output_type": "execute_result"
    }
   ],
   "source": [
    "# Load user data\n",
    "\n",
    "users_df = pd.read_csv('takehome_users.csv', encoding = \"ISO-8859-1\")\n",
    "users_df.head()"
   ]
  },
  {
   "cell_type": "code",
   "execution_count": 4,
   "id": "a2d17ca5",
   "metadata": {},
   "outputs": [
    {
     "data": {
      "text/html": [
       "<div>\n",
       "<style scoped>\n",
       "    .dataframe tbody tr th:only-of-type {\n",
       "        vertical-align: middle;\n",
       "    }\n",
       "\n",
       "    .dataframe tbody tr th {\n",
       "        vertical-align: top;\n",
       "    }\n",
       "\n",
       "    .dataframe thead th {\n",
       "        text-align: right;\n",
       "    }\n",
       "</style>\n",
       "<table border=\"1\" class=\"dataframe\">\n",
       "  <thead>\n",
       "    <tr style=\"text-align: right;\">\n",
       "      <th></th>\n",
       "      <th>time_stamp</th>\n",
       "      <th>user_id</th>\n",
       "      <th>visited</th>\n",
       "    </tr>\n",
       "  </thead>\n",
       "  <tbody>\n",
       "    <tr>\n",
       "      <th>0</th>\n",
       "      <td>2014-04-22 03:53:00</td>\n",
       "      <td>1</td>\n",
       "      <td>1</td>\n",
       "    </tr>\n",
       "    <tr>\n",
       "      <th>1</th>\n",
       "      <td>2013-11-15 03:45:00</td>\n",
       "      <td>2</td>\n",
       "      <td>1</td>\n",
       "    </tr>\n",
       "    <tr>\n",
       "      <th>2</th>\n",
       "      <td>2013-11-29 03:45:00</td>\n",
       "      <td>2</td>\n",
       "      <td>1</td>\n",
       "    </tr>\n",
       "    <tr>\n",
       "      <th>3</th>\n",
       "      <td>2013-09-12 03:45:00</td>\n",
       "      <td>2</td>\n",
       "      <td>1</td>\n",
       "    </tr>\n",
       "    <tr>\n",
       "      <th>4</th>\n",
       "      <td>2013-12-25 03:45:00</td>\n",
       "      <td>2</td>\n",
       "      <td>1</td>\n",
       "    </tr>\n",
       "  </tbody>\n",
       "</table>\n",
       "</div>"
      ],
      "text/plain": [
       "           time_stamp  user_id  visited\n",
       "0 2014-04-22 03:53:00        1        1\n",
       "1 2013-11-15 03:45:00        2        1\n",
       "2 2013-11-29 03:45:00        2        1\n",
       "3 2013-09-12 03:45:00        2        1\n",
       "4 2013-12-25 03:45:00        2        1"
      ]
     },
     "execution_count": 4,
     "metadata": {},
     "output_type": "execute_result"
    }
   ],
   "source": [
    "# Load engagement data\n",
    "\n",
    "engagement_df = pd.read_csv('takehome_user_engagement.csv', parse_dates=['time_stamp'])\n",
    "engagement_df.head()"
   ]
  },
  {
   "cell_type": "raw",
   "id": "7510d1b6",
   "metadata": {},
   "source": [
    "This code will load the data from the two CSV files into Pandas dataframes.\n",
    "The users_df dataframe will contain information about the users, and the engagement_df dataframe will contain information\n",
    "about their engagement with the product.\n",
    "\n",
    "The parse_dates=['time_stamp'] argument in the read_csv function call will parse the time_stamp column as a datetime object.\n",
    "\n",
    "Next, let's clean the data by checking for missing values and removing duplicates:"
   ]
  },
  {
   "cell_type": "code",
   "execution_count": 6,
   "id": "7cfdc16e",
   "metadata": {},
   "outputs": [
    {
     "data": {
      "text/plain": [
       "object_id                        0\n",
       "creation_time                    0\n",
       "name                             0\n",
       "email                            0\n",
       "creation_source                  0\n",
       "last_session_creation_time    3177\n",
       "opted_in_to_mailing_list         0\n",
       "enabled_for_marketing_drip       0\n",
       "org_id                           0\n",
       "invited_by_user_id            5583\n",
       "dtype: int64"
      ]
     },
     "execution_count": 6,
     "metadata": {},
     "output_type": "execute_result"
    }
   ],
   "source": [
    "# Check for missing values in user data\n",
    "\n",
    "users_df.isnull().sum()"
   ]
  },
  {
   "cell_type": "code",
   "execution_count": 7,
   "id": "f01e1945",
   "metadata": {},
   "outputs": [
    {
     "data": {
      "text/plain": [
       "time_stamp    0\n",
       "user_id       0\n",
       "visited       0\n",
       "dtype: int64"
      ]
     },
     "execution_count": 7,
     "metadata": {},
     "output_type": "execute_result"
    }
   ],
   "source": [
    "# Check for missing values in engagement data\n",
    "\n",
    "engagement_df.isnull().sum()"
   ]
  },
  {
   "cell_type": "code",
   "execution_count": 10,
   "id": "543b9dac",
   "metadata": {},
   "outputs": [
    {
     "data": {
      "text/plain": [
       "<bound method DataFrame.drop_duplicates of        object_id    creation_time               name  \\\n",
       "0              1   22/4/2014 3:53     Clausen August   \n",
       "1              2  15/11/2013 3:45      Poole Matthew   \n",
       "2              3  19/3/2013 23:14  Bottrill Mitchell   \n",
       "3              4   21/5/2013 8:09    Clausen Nicklas   \n",
       "4              5  17/1/2013 10:14          Raw Grace   \n",
       "...          ...              ...                ...   \n",
       "11995      11996    6/9/2013 6:14       Meier Sophia   \n",
       "11996      11997  10/1/2013 18:28      Fisher Amelie   \n",
       "11997      11998  27/4/2014 12:45        Haynes Jake   \n",
       "11998      11999  31/5/2012 11:55       Faber Annett   \n",
       "11999      12000   26/1/2014 8:57         Lima Thaís   \n",
       "\n",
       "                            email     creation_source  \\\n",
       "0        AugustCClausen@yahoo.com        GUEST_INVITE   \n",
       "1          MatthewPoole@gustr.com          ORG_INVITE   \n",
       "2      MitchellBottrill@gustr.com          ORG_INVITE   \n",
       "3       NicklasSClausen@yahoo.com        GUEST_INVITE   \n",
       "4              GraceRaw@yahoo.com        GUEST_INVITE   \n",
       "...                           ...                 ...   \n",
       "11995       SophiaMeier@gustr.com          ORG_INVITE   \n",
       "11996      AmelieFisher@gmail.com  SIGNUP_GOOGLE_AUTH   \n",
       "11997         JakeHaynes@cuvox.de        GUEST_INVITE   \n",
       "11998          mhaerzxp@iuxiw.com   PERSONAL_PROJECTS   \n",
       "11999   ThaisMeloLima@hotmail.com              SIGNUP   \n",
       "\n",
       "       last_session_creation_time  opted_in_to_mailing_list  \\\n",
       "0                    1.398139e+09                         1   \n",
       "1                    1.396238e+09                         0   \n",
       "2                    1.363735e+09                         0   \n",
       "3                    1.369210e+09                         0   \n",
       "4                    1.358850e+09                         0   \n",
       "...                           ...                       ...   \n",
       "11995                1.378448e+09                         0   \n",
       "11996                1.358275e+09                         0   \n",
       "11997                1.398603e+09                         1   \n",
       "11998                1.338638e+09                         0   \n",
       "11999                1.390727e+09                         0   \n",
       "\n",
       "       enabled_for_marketing_drip  org_id  invited_by_user_id  \n",
       "0                               0      11             10803.0  \n",
       "1                               0       1               316.0  \n",
       "2                               0      94              1525.0  \n",
       "3                               0       1              5151.0  \n",
       "4                               0     193              5240.0  \n",
       "...                           ...     ...                 ...  \n",
       "11995                           0      89              8263.0  \n",
       "11996                           0     200                 NaN  \n",
       "11997                           1      83              8074.0  \n",
       "11998                           0       6                 NaN  \n",
       "11999                           1       0                 NaN  \n",
       "\n",
       "[12000 rows x 10 columns]>"
      ]
     },
     "execution_count": 10,
     "metadata": {},
     "output_type": "execute_result"
    }
   ],
   "source": [
    "# Remove duplicate rows from user data\n",
    "\n",
    "users_df.drop_duplicates(subset='object_id', inplace=True)\n",
    "users_df.drop_duplicates"
   ]
  },
  {
   "cell_type": "code",
   "execution_count": 13,
   "id": "97194d22",
   "metadata": {},
   "outputs": [],
   "source": [
    "import warnings\n",
    "warnings.filterwarnings('ignore')"
   ]
  },
  {
   "cell_type": "code",
   "execution_count": 20,
   "id": "4ea04367",
   "metadata": {},
   "outputs": [
    {
     "data": {
      "text/plain": [
       "user_id        \n",
       "1        0         False\n",
       "2        1         False\n",
       "         2         False\n",
       "         3          True\n",
       "         4          True\n",
       "                   ...  \n",
       "11996    207912    False\n",
       "11997    207913    False\n",
       "11998    207914    False\n",
       "11999    207915    False\n",
       "12000    207916    False\n",
       "Name: visited, Length: 207917, dtype: bool"
      ]
     },
     "execution_count": 20,
     "metadata": {},
     "output_type": "execute_result"
    }
   ],
   "source": [
    "# Calculate the number of adopted users\n",
    "\n",
    "adopted_users = engagement_df.groupby('user_id').rolling(window=7, on='time_stamp').count()['visited'] >= 3\n",
    "adopted_users "
   ]
  },
  {
   "cell_type": "code",
   "execution_count": 48,
   "id": "261278fe",
   "metadata": {},
   "outputs": [
    {
     "name": "stdout",
     "output_type": "stream",
     "text": [
      "user_id        \n",
      "1        0         0.000000\n",
      "2        1         0.000000\n",
      "         2         0.000000\n",
      "         3         0.008333\n",
      "         4         0.008333\n",
      "                     ...   \n",
      "11996    207912    0.000000\n",
      "11997    207913    0.000000\n",
      "11998    207914    0.000000\n",
      "11999    207915    0.000000\n",
      "12000    207916    0.000000\n",
      "Name: visited, Length: 207917, dtype: float64\n"
     ]
    }
   ],
   "source": [
    "# Calculate the adoption rate\n",
    "\n",
    "adoption_rate = adopted_users / len(users_df) * 100\n",
    "print(adoption_rate)"
   ]
  },
  {
   "cell_type": "code",
   "execution_count": 26,
   "id": "84eae922",
   "metadata": {},
   "outputs": [
    {
     "data": {
      "text/plain": [
       "ORG_INVITE            4254\n",
       "GUEST_INVITE          2163\n",
       "PERSONAL_PROJECTS     2111\n",
       "SIGNUP                2087\n",
       "SIGNUP_GOOGLE_AUTH    1385\n",
       "Name: creation_source, dtype: int64"
      ]
     },
     "execution_count": 26,
     "metadata": {},
     "output_type": "execute_result"
    }
   ],
   "source": [
    "# Calculate the number of users for each creation source\n",
    "\n",
    "creation_source_counts = users_df['creation_source'].value_counts()\n",
    "creation_source_counts"
   ]
  },
  {
   "cell_type": "code",
   "execution_count": 27,
   "id": "bf100f89",
   "metadata": {},
   "outputs": [],
   "source": [
    "# Plot the distribution of users across creation sources\n",
    "\n",
    "import matplotlib.pyplot as plt"
   ]
  },
  {
   "cell_type": "code",
   "execution_count": 28,
   "id": "04b9b852",
   "metadata": {},
   "outputs": [
    {
     "data": {
      "image/png": "[encoded data removed]",
      "text/plain": [
       "<Figure size 640x480 with 1 Axes>"
      ]
     },
     "metadata": {},
     "output_type": "display_data"
    }
   ],
   "source": [
    "# Plot the distribution of users across creation sources\n",
    "\n",
    "plt.bar(creation_source_counts.index, creation_source_counts.values)\n",
    "plt.title('Distribution of Users by Creation Source')\n",
    "plt.xlabel('Creation Source')\n",
    "plt.ylabel('Number of Users')\n",
    "plt.xticks(rotation=20)\n",
    "plt.show()"
   ]
  },
  {
   "cell_type": "code",
   "execution_count": 52,
   "id": "5b55e82a",
   "metadata": {},
   "outputs": [
    {
     "ename": "NameError",
     "evalue": "name 'user_id' is not defined",
     "output_type": "error",
     "traceback": [
      "\u001b[1;31m---------------------------------------------------------------------------\u001b[0m",
      "\u001b[1;31mNameError\u001b[0m                                 Traceback (most recent call last)",
      "Cell \u001b[1;32mIn [52], line 3\u001b[0m\n\u001b[0;32m      1\u001b[0m \u001b[38;5;66;03m# Merge the user data with the adopted user data\u001b[39;00m\n\u001b[1;32m----> 3\u001b[0m user_adoption \u001b[38;5;241m=\u001b[39m pd\u001b[38;5;241m.\u001b[39mmerge(users_df, adopted_users, how\u001b[38;5;241m=\u001b[39m\u001b[38;5;124m'\u001b[39m\u001b[38;5;124mleft\u001b[39m\u001b[38;5;124m'\u001b[39m, left_on\u001b[38;5;241m=\u001b[39m\u001b[38;5;124m'\u001b[39m\u001b[38;5;124mobject_id\u001b[39m\u001b[38;5;124m'\u001b[39m, right_on\u001b[38;5;241m=\u001b[39m\u001b[43muser_id\u001b[49m)\n\u001b[0;32m      4\u001b[0m user_adoption[\u001b[38;5;124m'\u001b[39m\u001b[38;5;124madopted\u001b[39m\u001b[38;5;124m'\u001b[39m] \u001b[38;5;241m=\u001b[39m user_adoption[\u001b[38;5;124m'\u001b[39m\u001b[38;5;124mvisited\u001b[39m\u001b[38;5;124m'\u001b[39m]\n\u001b[0;32m      5\u001b[0m user_adoption\u001b[38;5;241m.\u001b[39mdrop([\u001b[38;5;124m'\u001b[39m\u001b[38;5;124mvisited\u001b[39m\u001b[38;5;124m'\u001b[39m], axis\u001b[38;5;241m=\u001b[39m\u001b[38;5;241m1\u001b[39m, inplace\u001b[38;5;241m=\u001b[39m\u001b[38;5;28;01mTrue\u001b[39;00m)\n",
      "\u001b[1;31mNameError\u001b[0m: name 'user_id' is not defined"
     ]
    }
   ],
   "source": [
    "# Merge the user data with the adopted user data\n",
    "\n",
    "user_adoption = pd.merge(users_df, adopted_users, how='left', left_on='object_id', right_on=user_id)\n",
    "user_adoption['adopted'] = user_adoption['visited']\n",
    "user_adoption.drop(['visited'], axis=1, inplace=True)"
   ]
  },
  {
   "cell_type": "code",
   "execution_count": 41,
   "id": "aeb8608b",
   "metadata": {},
   "outputs": [
    {
     "ename": "NameError",
     "evalue": "name 'user_adoption' is not defined",
     "output_type": "error",
     "traceback": [
      "\u001b[1;31m---------------------------------------------------------------------------\u001b[0m",
      "\u001b[1;31mNameError\u001b[0m                                 Traceback (most recent call last)",
      "Cell \u001b[1;32mIn [41], line 3\u001b[0m\n\u001b[0;32m      1\u001b[0m \u001b[38;5;66;03m# Calculate the average time between account creation and last login for adopted and non-adopted users\u001b[39;00m\n\u001b[1;32m----> 3\u001b[0m avg_time_adoption \u001b[38;5;241m=\u001b[39m \u001b[43muser_adoption\u001b[49m[user_adoption[\u001b[38;5;124m'\u001b[39m\u001b[38;5;124madopted\u001b[39m\u001b[38;5;124m'\u001b[39m] \u001b[38;5;241m==\u001b[39m \u001b[38;5;241m1\u001b[39m][\u001b[38;5;124m'\u001b[39m\u001b[38;5;124mlast_session_creation_time\u001b[39m\u001b[38;5;124m'\u001b[39m]\u001b[38;5;241m.\u001b[39mmean()\n\u001b[0;32m      4\u001b[0m avg_time_adoption\n",
      "\u001b[1;31mNameError\u001b[0m: name 'user_adoption' is not defined"
     ]
    }
   ],
   "source": [
    "# Calculate the average time between account creation and last login for adopted and non-adopted users\n",
    "\n",
    "avg_time_adoption = user_adoption[user_adoption['adopted'] == 1]['last_session_creation_time'].mean()\n",
    "avg_time_adoption"
   ]
  },
  {
   "cell_type": "code",
   "execution_count": 42,
   "id": "e89de2cf",
   "metadata": {},
   "outputs": [
    {
     "ename": "NameError",
     "evalue": "name 'user_adoption' is not defined",
     "output_type": "error",
     "traceback": [
      "\u001b[1;31m---------------------------------------------------------------------------\u001b[0m",
      "\u001b[1;31mNameError\u001b[0m                                 Traceback (most recent call last)",
      "Cell \u001b[1;32mIn [42], line 1\u001b[0m\n\u001b[1;32m----> 1\u001b[0m avg_time_non_adoption \u001b[38;5;241m=\u001b[39m \u001b[43muser_adoption\u001b[49m[user_adoption[\u001b[38;5;124m'\u001b[39m\u001b[38;5;124madopted\u001b[39m\u001b[38;5;124m'\u001b[39m] \u001b[38;5;241m==\u001b[39m \u001b[38;5;241m0\u001b[39m][\u001b[38;5;124m'\u001b[39m\u001b[38;5;124mlast_session_creation_time\u001b[39m\u001b[38;5;124m'\u001b[39m]\u001b[38;5;241m.\u001b[39mmean()\n\u001b[0;32m      2\u001b[0m avg_time_non_adoption\n",
      "\u001b[1;31mNameError\u001b[0m: name 'user_adoption' is not defined"
     ]
    }
   ],
   "source": [
    "avg_time_non_adoption = user_adoption[user_adoption['adopted'] == 0]['last_session_creation_time'].mean()\n",
    "avg_time_non_adoption"
   ]
  },
  {
   "cell_type": "code",
   "execution_count": 43,
   "id": "668b17eb",
   "metadata": {},
   "outputs": [
    {
     "ename": "NameError",
     "evalue": "name 'avg_time_adoption' is not defined",
     "output_type": "error",
     "traceback": [
      "\u001b[1;31m---------------------------------------------------------------------------\u001b[0m",
      "\u001b[1;31mNameError\u001b[0m                                 Traceback (most recent call last)",
      "Cell \u001b[1;32mIn [43], line 1\u001b[0m\n\u001b[1;32m----> 1\u001b[0m \u001b[38;5;28mprint\u001b[39m(\u001b[38;5;124m'\u001b[39m\u001b[38;5;124mAverage time between account creation and last login for adopted users:\u001b[39m\u001b[38;5;124m'\u001b[39m, \u001b[43mavg_time_adoption\u001b[49m)\n",
      "\u001b[1;31mNameError\u001b[0m: name 'avg_time_adoption' is not defined"
     ]
    }
   ],
   "source": [
    "print('Average time between account creation and last login for adopted users:', avg_time_adoption)"
   ]
  },
  {
   "cell_type": "code",
   "execution_count": 44,
   "id": "81799b6c",
   "metadata": {},
   "outputs": [
    {
     "ename": "NameError",
     "evalue": "name 'avg_time_non_adoption' is not defined",
     "output_type": "error",
     "traceback": [
      "\u001b[1;31m---------------------------------------------------------------------------\u001b[0m",
      "\u001b[1;31mNameError\u001b[0m                                 Traceback (most recent call last)",
      "Cell \u001b[1;32mIn [44], line 1\u001b[0m\n\u001b[1;32m----> 1\u001b[0m \u001b[38;5;28mprint\u001b[39m(\u001b[38;5;124m'\u001b[39m\u001b[38;5;124mAverage time between account creation and last login for non-adopted users:\u001b[39m\u001b[38;5;124m'\u001b[39m, \u001b[43mavg_time_non_adoption\u001b[49m)\n",
      "\u001b[1;31mNameError\u001b[0m: name 'avg_time_non_adoption' is not defined"
     ]
    }
   ],
   "source": [
    "print('Average time between account creation and last login for non-adopted users:', avg_time_non_adoption)"
   ]
  },
  {
   "cell_type": "markdown",
   "id": "7784feac",
   "metadata": {},
   "source": [
    "# Conclusion:"
   ]
  },
  {
   "cell_type": "code",
   "execution_count": null,
   "id": "9021fc6f",
   "metadata": {},
   "outputs": [],
   "source": [
    "In conclusion, to increase user adoption, companies may want to focus on targeting users who signed up via organization \n",
    "invites and those who have opted in to the mailing list."
   ]
  }
 ],
 "metadata": {
  "kernelspec": {
   "display_name": "Python 3 (ipykernel)",
   "language": "python",
   "name": "python3"
  },
  "language_info": {
   "codemirror_mode": {
    "name": "ipython",
    "version": 3
   },
   "file_extension": ".py",
   "mimetype": "text/x-python",
   "name": "python",
   "nbconvert_exporter": "python",
   "pygments_lexer": "ipython3",
   "version": "3.10.6"
  }
 },
 "nbformat": 4,
 "nbformat_minor": 5
}
